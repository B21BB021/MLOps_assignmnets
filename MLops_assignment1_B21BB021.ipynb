{
  "nbformat": 4,
  "nbformat_minor": 0,
  "metadata": {
    "colab": {
      "provenance": []
    },
    "kernelspec": {
      "name": "python3",
      "display_name": "Python 3"
    },
    "language_info": {
      "name": "python"
    }
  },
  "cells": [
    {
      "cell_type": "markdown",
      "source": [
        "## MLOps Assignment 1"
      ],
      "metadata": {
        "id": "LlIGlcIiywyq"
      }
    },
    {
      "cell_type": "markdown",
      "source": [
        "Q1. Print multiplication table from 1 to 10"
      ],
      "metadata": {
        "id": "i3GplYoCqa89"
      }
    },
    {
      "cell_type": "code",
      "source": [
        "#write here and run the cell\n",
        "for i in range(10):\n",
        "  print('table of ', i+ 1);\n",
        "\n",
        "  for j in range(10):\n",
        "    print(i+1, \"*\", j+1, \"=\", (i+1)*(j+1))\n",
        "  print(\"\\n\")"
      ],
      "metadata": {
        "id": "Vfm5RBY0qbIs",
        "colab": {
          "base_uri": "https://localhost:8080/"
        },
        "outputId": "ed6d111b-7faa-4ef1-c51b-f35b901d87a6"
      },
      "execution_count": 22,
      "outputs": [
        {
          "output_type": "stream",
          "name": "stdout",
          "text": [
            "table of  1\n",
            "1 * 1 = 1\n",
            "1 * 2 = 2\n",
            "1 * 3 = 3\n",
            "1 * 4 = 4\n",
            "1 * 5 = 5\n",
            "1 * 6 = 6\n",
            "1 * 7 = 7\n",
            "1 * 8 = 8\n",
            "1 * 9 = 9\n",
            "1 * 10 = 10\n",
            "\n",
            "\n",
            "table of  2\n",
            "2 * 1 = 2\n",
            "2 * 2 = 4\n",
            "2 * 3 = 6\n",
            "2 * 4 = 8\n",
            "2 * 5 = 10\n",
            "2 * 6 = 12\n",
            "2 * 7 = 14\n",
            "2 * 8 = 16\n",
            "2 * 9 = 18\n",
            "2 * 10 = 20\n",
            "\n",
            "\n",
            "table of  3\n",
            "3 * 1 = 3\n",
            "3 * 2 = 6\n",
            "3 * 3 = 9\n",
            "3 * 4 = 12\n",
            "3 * 5 = 15\n",
            "3 * 6 = 18\n",
            "3 * 7 = 21\n",
            "3 * 8 = 24\n",
            "3 * 9 = 27\n",
            "3 * 10 = 30\n",
            "\n",
            "\n",
            "table of  4\n",
            "4 * 1 = 4\n",
            "4 * 2 = 8\n",
            "4 * 3 = 12\n",
            "4 * 4 = 16\n",
            "4 * 5 = 20\n",
            "4 * 6 = 24\n",
            "4 * 7 = 28\n",
            "4 * 8 = 32\n",
            "4 * 9 = 36\n",
            "4 * 10 = 40\n",
            "\n",
            "\n",
            "table of  5\n",
            "5 * 1 = 5\n",
            "5 * 2 = 10\n",
            "5 * 3 = 15\n",
            "5 * 4 = 20\n",
            "5 * 5 = 25\n",
            "5 * 6 = 30\n",
            "5 * 7 = 35\n",
            "5 * 8 = 40\n",
            "5 * 9 = 45\n",
            "5 * 10 = 50\n",
            "\n",
            "\n",
            "table of  6\n",
            "6 * 1 = 6\n",
            "6 * 2 = 12\n",
            "6 * 3 = 18\n",
            "6 * 4 = 24\n",
            "6 * 5 = 30\n",
            "6 * 6 = 36\n",
            "6 * 7 = 42\n",
            "6 * 8 = 48\n",
            "6 * 9 = 54\n",
            "6 * 10 = 60\n",
            "\n",
            "\n",
            "table of  7\n",
            "7 * 1 = 7\n",
            "7 * 2 = 14\n",
            "7 * 3 = 21\n",
            "7 * 4 = 28\n",
            "7 * 5 = 35\n",
            "7 * 6 = 42\n",
            "7 * 7 = 49\n",
            "7 * 8 = 56\n",
            "7 * 9 = 63\n",
            "7 * 10 = 70\n",
            "\n",
            "\n",
            "table of  8\n",
            "8 * 1 = 8\n",
            "8 * 2 = 16\n",
            "8 * 3 = 24\n",
            "8 * 4 = 32\n",
            "8 * 5 = 40\n",
            "8 * 6 = 48\n",
            "8 * 7 = 56\n",
            "8 * 8 = 64\n",
            "8 * 9 = 72\n",
            "8 * 10 = 80\n",
            "\n",
            "\n",
            "table of  9\n",
            "9 * 1 = 9\n",
            "9 * 2 = 18\n",
            "9 * 3 = 27\n",
            "9 * 4 = 36\n",
            "9 * 5 = 45\n",
            "9 * 6 = 54\n",
            "9 * 7 = 63\n",
            "9 * 8 = 72\n",
            "9 * 9 = 81\n",
            "9 * 10 = 90\n",
            "\n",
            "\n",
            "table of  10\n",
            "10 * 1 = 10\n",
            "10 * 2 = 20\n",
            "10 * 3 = 30\n",
            "10 * 4 = 40\n",
            "10 * 5 = 50\n",
            "10 * 6 = 60\n",
            "10 * 7 = 70\n",
            "10 * 8 = 80\n",
            "10 * 9 = 90\n",
            "10 * 10 = 100\n",
            "\n",
            "\n"
          ]
        }
      ]
    },
    {
      "cell_type": "markdown",
      "source": [
        "Q2. Given two lists, l1 and l2, write a program to create a third list l3 by picking an odd-index element from the list l1 and even index elements from the list l2."
      ],
      "metadata": {
        "id": "kCxjfhGtiMFb"
      }
    },
    {
      "cell_type": "code",
      "source": [
        "#write here and run the cell\n",
        "\n",
        "l1 = [3, 6, 9, 12, 15, 18, 21]\n",
        "l2 = [4, 8, 12, 16, 20, 24, 28]\n",
        "l3 = []\n",
        "for i in range(len(l1)):\n",
        "  if i % 2 == 0:\n",
        "    l3.append(l2[i])\n",
        "  else:\n",
        "    l3.append(l1[i])\n",
        "\n",
        "print(l3)\n"
      ],
      "metadata": {
        "id": "r1lkQPN8iNSc",
        "colab": {
          "base_uri": "https://localhost:8080/"
        },
        "outputId": "a177f21d-59ca-49e8-f85e-3ca980c8b800"
      },
      "execution_count": 23,
      "outputs": [
        {
          "output_type": "stream",
          "name": "stdout",
          "text": [
            "[4, 6, 12, 12, 20, 18, 28]\n"
          ]
        }
      ]
    },
    {
      "cell_type": "markdown",
      "source": [
        "Q3. Print a this pattern(*)\n",
        "\n",
        "    * * * * * * * *\n",
        "      * * * * * * *\n",
        "        * * * * * *\n",
        "          * * * * *\n",
        "            * * * *\n",
        "              * * *\n",
        "                * *\n",
        "                  *"
      ],
      "metadata": {
        "id": "GBb0FgtIq4YA"
      }
    },
    {
      "cell_type": "code",
      "source": [
        "#write here and run the cell\n",
        "for i in range(8):\n",
        "  for j in range(i):\n",
        "    print(\"  \", end = \"\")\n",
        "  for j in range(8 - i):\n",
        "    print(\"* \", end = \"\")\n",
        "  print(\"\\n\")\n"
      ],
      "metadata": {
        "id": "rfbGzuA3rcGs",
        "colab": {
          "base_uri": "https://localhost:8080/"
        },
        "outputId": "0c2e84f7-653e-441e-b2e1-5f0f960f6687"
      },
      "execution_count": 24,
      "outputs": [
        {
          "output_type": "stream",
          "name": "stdout",
          "text": [
            "* * * * * * * * \n",
            "\n",
            "  * * * * * * * \n",
            "\n",
            "    * * * * * * \n",
            "\n",
            "      * * * * * \n",
            "\n",
            "        * * * * \n",
            "\n",
            "          * * * \n",
            "\n",
            "            * * \n",
            "\n",
            "              * \n",
            "\n"
          ]
        }
      ]
    },
    {
      "cell_type": "markdown",
      "source": [
        "Q4. Create a function named `exponent(base, exp)` that returns an integer representing the result of raising `base` to the power of `exp`.\n",
        "`exp` is >0.\n",
        "\n",
        "base = 5\n",
        "exponent = 4\n",
        "\n",
        "5 raises to the power of 4 is: 625\n",
        "i.e. (5 *5 * 5 *5 = 625)"
      ],
      "metadata": {
        "id": "WIblh-z6s9me"
      }
    },
    {
      "cell_type": "code",
      "source": [
        "#write here and run the cell\n",
        "def exponent(base, exp):\n",
        "  if exp == 0:\n",
        "    return 1\n",
        "  if exp == 1:\n",
        "    return base\n",
        "  return base * exponent(base, exp - 1)\n",
        "print(exponent(3, 3))"
      ],
      "metadata": {
        "id": "6-KKDQNWs8eQ",
        "colab": {
          "base_uri": "https://localhost:8080/"
        },
        "outputId": "b511e4df-251f-4681-93d8-2681be7f6deb"
      },
      "execution_count": 25,
      "outputs": [
        {
          "output_type": "stream",
          "name": "stdout",
          "text": [
            "27\n"
          ]
        }
      ]
    },
    {
      "cell_type": "markdown",
      "source": [
        "Q5. Create a file named test.txt and insert the following content into it.\n",
        "\n",
        "    line1\n",
        "    line2\n",
        "    line3\n",
        "    line4\n",
        "    line5\n",
        "    line6\n",
        "    line7\n",
        "\n",
        "Write a program which write all content of a given file (test.txt) into a new file by skipping line number 5 (line5)"
      ],
      "metadata": {
        "id": "_QUrD8h6t6PN"
      }
    },
    {
      "cell_type": "code",
      "source": [
        "#write here and run the cell\n",
        "# Create and write to the test.txt file\n",
        "with open('test.txt', 'w') as file:\n",
        "    file.write('line1\\n')\n",
        "    file.write('line2\\n')\n",
        "    file.write('line3\\n')\n",
        "    file.write('line4\\n')\n",
        "    file.write('line5\\n')\n",
        "    file.write('line6\\n')\n",
        "    file.write('line7\\n')\n",
        "# Read from test.txt and write to new_test.txt while skipping line 5\n",
        "with open('test.txt', 'r') as infile, open('new_test.txt', 'w') as outfile:\n",
        "    for i, line in enumerate(infile, start=1):\n",
        "        if i != 5:  # Skip line 5\n",
        "            outfile.write(line)\n",
        "\n",
        "print(\"Content written to new_test.txt, skipping line 5.\")\n"
      ],
      "metadata": {
        "id": "I2KF1QHKrq-s",
        "colab": {
          "base_uri": "https://localhost:8080/"
        },
        "outputId": "c45d8793-5afd-4c69-dbca-f3208294662c"
      },
      "execution_count": 26,
      "outputs": [
        {
          "output_type": "stream",
          "name": "stdout",
          "text": [
            "Content written to new_test.txt, skipping line 5.\n"
          ]
        }
      ]
    },
    {
      "cell_type": "markdown",
      "source": [
        "Q6. Write a program which receives three names from the user in a single input() function call.\n",
        "\n",
        "    Input: IIT JODHPUR RAJASTHAN\n",
        "\n",
        "    Output:\n",
        "    IIT\n",
        "    JODHPUR\n",
        "    RAJASTHAN"
      ],
      "metadata": {
        "id": "6cdAt0ONvMVI"
      }
    },
    {
      "cell_type": "code",
      "source": [
        "#write here and run the cell\n",
        "n = input()\n",
        "name_list = n.split()\n",
        "for i in name_list:\n",
        "  print(i)\n",
        "\n"
      ],
      "metadata": {
        "id": "Mo0wyeB6vJJm",
        "colab": {
          "base_uri": "https://localhost:8080/"
        },
        "outputId": "6cc28eb3-1b7e-4000-c50e-18c8ba7d834d"
      },
      "execution_count": 27,
      "outputs": [
        {
          "output_type": "stream",
          "name": "stdout",
          "text": [
            "iit jodhpur rajasthan\n",
            "iit\n",
            "jodhpur\n",
            "rajasthan\n"
          ]
        }
      ]
    },
    {
      "cell_type": "markdown",
      "source": [
        "Q7. Write a program to define a function called show_employee() with the following requirements:\n",
        "\n",
        "*   It should take the employee's name and salary as input and display both.\n",
        "*   If the salary is not provided in the function call, assign a default value of 9000 to it.\n",
        "\n",
        "After passing:\n",
        "\n",
        "showEmployee(\"Bill Gates\", 12000)\n",
        "\n",
        "showEmployee(\"Elon Musk\")\n",
        "\n",
        "It should print:\n",
        "\n",
        "Name: Bill Gates salary: 12000\n",
        "\n",
        "Name: Elon Musk salary: 9000"
      ],
      "metadata": {
        "id": "jwSKpPcYv_De"
      }
    },
    {
      "cell_type": "code",
      "source": [
        "#write here and run the cell\n",
        "def showEmployee( name , salary = 9000 ):\n",
        "  print('Name' , name ,  'Salary :' , salary)\n",
        "\n",
        "showEmployee(\"onkar\")"
      ],
      "metadata": {
        "id": "yyzhkF1Lv94j",
        "colab": {
          "base_uri": "https://localhost:8080/"
        },
        "outputId": "a2835f0e-ccb2-474b-b816-40e44a5fe371"
      },
      "execution_count": 28,
      "outputs": [
        {
          "output_type": "stream",
          "name": "stdout",
          "text": [
            "Name onkar Salary : 9000\n"
          ]
        }
      ]
    },
    {
      "cell_type": "markdown",
      "source": [
        "Q8. Write a program to identify words that contain both letters and digits from a given input string.\n",
        "\n",
        "    Given str1 = \"Harry25 is Gryffindor Wizard50 and cursed\"\n",
        "\n",
        "    Output:\n",
        "    Harry25\n",
        "    Wizard50"
      ],
      "metadata": {
        "id": "BAtCQH3pxXWV"
      }
    },
    {
      "cell_type": "code",
      "source": [
        "#write here and run the cell\n",
        "import re\n",
        "\n",
        "def find_words_with_letters_and_digits(input_string):\n",
        "    words = input_string.split()\n",
        "\n",
        "    result = []\n",
        "    pattern = re.compile(r'^(?=.*[a-zA-Z])(?=.*\\d)')\n",
        "\n",
        "    for word in words:\n",
        "        if pattern.search(word):\n",
        "            result.append(word)\n",
        "\n",
        "    for wrod in result:\n",
        "      print(word)\n",
        "    return\n",
        "\n",
        "input_string = \"abc123 hello world 1a2b3c 456 78xyz\"\n",
        "print(\"Words containing both letters and digits:\")\n",
        "words_with_letters_and_digits = find_words_with_letters_and_digits(input_string)\n"
      ],
      "metadata": {
        "id": "bqbyxYdqvJHY",
        "colab": {
          "base_uri": "https://localhost:8080/"
        },
        "outputId": "c77b7156-4d4c-4981-91be-db2a6eed5bca"
      },
      "execution_count": 29,
      "outputs": [
        {
          "output_type": "stream",
          "name": "stdout",
          "text": [
            "Words containing both letters and digits:\n",
            "78xyz\n",
            "78xyz\n",
            "78xyz\n"
          ]
        }
      ]
    },
    {
      "cell_type": "markdown",
      "source": [
        "Q9. Write a program to substitute each special character in the given string with the symbol #.\n",
        "\n",
        "    Given: str1 = '/*Modi is @Politician & Melony!!'\n",
        "\n",
        "    Output: ##Modi is #Politician # Melony##"
      ],
      "metadata": {
        "id": "Ev6TIw7oyGzJ"
      }
    },
    {
      "cell_type": "code",
      "source": [
        "#write here and run the cell\n",
        "def replace_special_characters(input_string):\n",
        "\n",
        "    result = ''\n",
        "\n",
        "    for char in input_string:\n",
        "        if char.isalnum() or char.isspace():\n",
        "            result += char\n",
        "        else:\n",
        "            result += '#'\n",
        "\n",
        "    return result\n",
        "\n",
        "\n",
        "str1 = '/*Modi is @Politician & Melony!!'\n",
        "\n",
        "output = replace_special_characters(str1)\n",
        "print(output)\n"
      ],
      "metadata": {
        "id": "Hbg92hJtvJE7",
        "colab": {
          "base_uri": "https://localhost:8080/"
        },
        "outputId": "a5a82581-0bb8-420c-9303-c1d506134b51"
      },
      "execution_count": 30,
      "outputs": [
        {
          "output_type": "stream",
          "name": "stdout",
          "text": [
            "##Modi is #Politician # Melony##\n"
          ]
        }
      ]
    },
    {
      "cell_type": "markdown",
      "source": [
        "Q10. Construct a Python set that displays elements from both lists as pairs.\n",
        "\n",
        "    Given:\n",
        "\n",
        "    first_list = [2, 3, 4, 5, 6, 7, 8]\n",
        "    second_list = [4, 9, 16, 25, 36, 49, 64]\n",
        "    Output: Result is  {(6, 36), (8, 64), (4, 16), (5, 25), (3, 9), (7, 49), (2, 4)}"
      ],
      "metadata": {
        "id": "L9zg8k_XyoMz"
      }
    },
    {
      "cell_type": "code",
      "source": [
        "#write here and run the cell"
      ],
      "metadata": {
        "id": "aSBw6V0OvJCS"
      },
      "execution_count": 31,
      "outputs": []
    },
    {
      "cell_type": "markdown",
      "source": [
        "Q11. Define two set A and B consisting of 5 elements. Now print the element after performing\n",
        "\n",
        "\n",
        "      1.   A-B\n",
        "      2.   B-A\n",
        "      3.   A∩B\n",
        "      4.   A∪B\n",
        "\n",
        "\n"
      ],
      "metadata": {
        "id": "JHa0SMOozZo9"
      }
    },
    {
      "cell_type": "code",
      "source": [
        "#write here and run the cell\n",
        "A = {1, 2, 3, 4, 5}\n",
        "B = {4, 5, 6, 7, 8}\n",
        "\n",
        "difference_A_B = A - B\n",
        "print(\"A - B:\", difference_A_B)\n",
        "\n",
        "difference_B_A = B - A\n",
        "print(\"B - A:\", difference_B_A)\n",
        "\n",
        "intersection_A_B = A & B\n",
        "print(\"A ∩ B:\", intersection_A_B)\n",
        "\n",
        "union_A_B = A | B\n",
        "print(\"A ∪ B:\", union_A_B)\n"
      ],
      "metadata": {
        "id": "r9vL1bpHzZGg",
        "colab": {
          "base_uri": "https://localhost:8080/"
        },
        "outputId": "7a819fb3-4db1-4522-e236-bc179e87f254"
      },
      "execution_count": 32,
      "outputs": [
        {
          "output_type": "stream",
          "name": "stdout",
          "text": [
            "A - B: {1, 2, 3}\n",
            "B - A: {8, 6, 7}\n",
            "A ∩ B: {4, 5}\n",
            "A ∪ B: {1, 2, 3, 4, 5, 6, 7, 8}\n"
          ]
        }
      ]
    },
    {
      "cell_type": "markdown",
      "source": [
        "## Object Oriented Programming Exercise 1:\n",
        "\n",
        "[Classes and Objects in Python](https://pynative.com/python-classes-and-objects/)\n",
        "\n",
        "[Instance variables in Python](https://pynative.com/python-instance-variables/)"
      ],
      "metadata": {
        "id": "UFjTtL_i00dz"
      }
    },
    {
      "cell_type": "markdown",
      "source": [
        "Q12. Create a Vehicle class with max_speed and mileage instance attributes."
      ],
      "metadata": {
        "id": "-PQELvq41z5B"
      }
    },
    {
      "cell_type": "code",
      "source": [
        "#write here and run the cell\n",
        "class Vehicle:\n",
        "    def __init__(self, max_speed, mileage):\n",
        "        self.max_speed = max_speed\n",
        "        self.mileage = mileage\n",
        "\n",
        "\n",
        "car = Vehicle(200, 1000)\n",
        "\n",
        "print(\"Max Speed:\", car.max_speed)\n",
        "print(\"Mileage:\", car.mileage)\n"
      ],
      "metadata": {
        "id": "Wa16l5-C0z3Z",
        "colab": {
          "base_uri": "https://localhost:8080/"
        },
        "outputId": "a0fba028-e5c5-4356-d4fe-cc40e2edd09e"
      },
      "execution_count": 33,
      "outputs": [
        {
          "output_type": "stream",
          "name": "stdout",
          "text": [
            "Max Speed: 200\n",
            "Mileage: 1000\n"
          ]
        }
      ]
    },
    {
      "cell_type": "markdown",
      "source": [
        "Q13. Create a child class Bus that will inherit all of the variables and methods of the Vehicle class.\n",
        "\n",
        "Create a Bus object that will inherit all of the variables and methods of the parent Vehicle class and display it."
      ],
      "metadata": {
        "id": "-Japqg35177L"
      }
    },
    {
      "cell_type": "code",
      "source": [
        "#write here and run the cell\n",
        "class Bus(Vehicle):\n",
        "    def display_info(self):\n",
        "        return f\"Max Speed: {self.max_speed} km/h, Mileage: {self.mileage} km\"\n",
        "school_bus = Bus(120, 200)\n",
        "\n",
        "print(school_bus.display_info())\n"
      ],
      "metadata": {
        "id": "nUvpX3qR2Upg",
        "colab": {
          "base_uri": "https://localhost:8080/"
        },
        "outputId": "04749f3e-dbbb-44c3-d273-4ff38307c02c"
      },
      "execution_count": 34,
      "outputs": [
        {
          "output_type": "stream",
          "name": "stdout",
          "text": [
            "Max Speed: 120 km/h, Mileage: 200 km\n"
          ]
        }
      ]
    },
    {
      "cell_type": "markdown",
      "source": [
        "### Class Inheritance\n",
        "\n",
        "Q14. Create a Bus class that inherits from the Vehicle class. Give the capacity argument of Bus.seating_capacity() a default value of 50.\n",
        "\n",
        "Use the following code for your parent Vehicle class.\n",
        "\n",
        "    class Vehicle:\n",
        "      def __init__(self, name, max_speed, mileage):\n",
        "          self.name = name\n",
        "          self.max_speed = max_speed\n",
        "          self.mileage = mileage\n",
        "\n",
        "      def seating_capacity(self, capacity):\n",
        "          return f\"The seating capacity of a {self.name} is {capacity} passengers\"\n",
        "\n",
        "Expected Output:\n",
        "\n",
        "    The seating capacity of a bus is 50 passengers"
      ],
      "metadata": {
        "id": "fPFfg2Hh2VBe"
      }
    },
    {
      "cell_type": "code",
      "source": [
        "#write here and run the cell\n",
        "class Vehicle:\n",
        "    def __init__(self, name, max_speed, mileage):\n",
        "        self.name = name\n",
        "        self.max_speed = max_speed\n",
        "        self.mileage = mileage\n",
        "\n",
        "    def seating_capacity(self, capacity):\n",
        "        return f\"The seating capacity of a {self.name} is {capacity} passengers\"\n",
        "\n",
        "class Bus(Vehicle):\n",
        "    def seating_capacity(self, capacity=50):\n",
        "        return super().seating_capacity(capacity)\n",
        "\n",
        "bus = Bus(\"Bus\", 120, 25000)\n",
        "\n",
        "print(bus.seating_capacity())\n",
        "print(bus.seating_capacity(40))\n"
      ],
      "metadata": {
        "id": "TKalMy1B2_Ix",
        "colab": {
          "base_uri": "https://localhost:8080/"
        },
        "outputId": "a1cc56aa-d736-40d2-9312-3626ba72fbfa"
      },
      "execution_count": 35,
      "outputs": [
        {
          "output_type": "stream",
          "name": "stdout",
          "text": [
            "The seating capacity of a Bus is 50 passengers\n",
            "The seating capacity of a Bus is 40 passengers\n"
          ]
        }
      ]
    },
    {
      "cell_type": "markdown",
      "source": [
        "Q15. Create a Bus subclass that inherits from the Vehicle class. By default, the fare for any vehicle is calculated as the seating capacity multiplied by 100. For instances of the Bus class, an additional 10% maintenance fee should be applied to the total fare. Therefore, the final fare for a bus instance will be the sum of the total fare plus an additional 10% of that total fare.\n",
        "\n",
        "Note: The bus has a seating capacity of 50, so the final fare amount should be 5500. You need to override the fare() method from the Vehicle class in the Bus class.\n",
        "\n",
        "Use the provided code for the parent Vehicle class. You should access the parent class within a method of the child class.\n",
        "\n",
        "    class Vehicle:\n",
        "      def __init__(self, name, mileage, capacity):\n",
        "        self.name = name\n",
        "        self.mileage = mileage\n",
        "        self.capacity = capacity\n",
        "\n",
        "      def fare(self):\n",
        "        return self.capacity * 100\n",
        "\n",
        "    class Bus(Vehicle):\n",
        "        pass\n",
        "        School_bus = Bus(\"School Volvo\", 12, 50)\n",
        "        print(\"Total Bus fare is:\", School_bus.fare())\n",
        "\n",
        "    Expected Output:\n",
        "\n",
        "    Total Bus fare is: 5500.0"
      ],
      "metadata": {
        "id": "kenJ766m2_jc"
      }
    },
    {
      "cell_type": "code",
      "source": [
        "#write here and run the cell\n",
        "class Vehicle:\n",
        "  def __init__(self, name, mileage, capacity):\n",
        "    self.name = name\n",
        "    self.mileage = mileage\n",
        "    self.capacity = capacity\n",
        "\n",
        "  def fare(self):\n",
        "    return self.capacity * 100\n",
        "\n",
        "# Child class\n",
        "class Bus(Vehicle):\n",
        "    def fare(self):\n",
        "        base_fare = super().fare()\n",
        "        maintenance_fee = base_fare * 0.10\n",
        "        final_fare = base_fare + maintenance_fee\n",
        "        return final_fare\n",
        "\n",
        "school_bus = Bus(\"School Volvo\", 12, 50)\n",
        "\n",
        "print(\"Total Bus fare is:\", school_bus.fare())"
      ],
      "metadata": {
        "id": "jY3Z5SsY_iaQ",
        "colab": {
          "base_uri": "https://localhost:8080/"
        },
        "outputId": "bd6daeb3-5aa6-4818-a351-45a29eb4f6f1"
      },
      "execution_count": 36,
      "outputs": [
        {
          "output_type": "stream",
          "name": "stdout",
          "text": [
            "Total Bus fare is: 5500.0\n"
          ]
        }
      ]
    },
    {
      "cell_type": "markdown",
      "source": [
        "### Python JSON Exercise\n",
        "Refer: [Python JSON tutorials](https://pynative.com/python/json/)"
      ],
      "metadata": {
        "id": "3wMvLEkk_nWE"
      }
    },
    {
      "cell_type": "markdown",
      "source": [
        "Q16. Convert the following dictionary into JSON format\n",
        "\n",
        "    data = {\"key1\" : \"value1\", \"key2\" : \"value2\"}\n",
        "    data = {\"key1\" : \"value1\", \"key2\" : \"value2\"}"
      ],
      "metadata": {
        "id": "zVIiuI0PAcuT"
      }
    },
    {
      "cell_type": "code",
      "source": [
        "#write here and run the cell\n",
        "import json\n",
        "\n",
        "data = {\"key1\": \"value1\", \"key2\": \"value2\"}\n",
        "\n",
        "json_data = json.dumps(data)\n",
        "\n",
        "print(type(json_data))\n",
        "print(type(data))\n"
      ],
      "metadata": {
        "id": "Z5M47OYS_mhA",
        "colab": {
          "base_uri": "https://localhost:8080/"
        },
        "outputId": "ba24e9c0-6a36-4197-f866-9973bed5532c"
      },
      "execution_count": 37,
      "outputs": [
        {
          "output_type": "stream",
          "name": "stdout",
          "text": [
            "<class 'str'>\n",
            "<class 'dict'>\n"
          ]
        }
      ]
    },
    {
      "cell_type": "markdown",
      "source": [
        "Q17. Sort JSON keys in and write them into a file\n",
        "\n",
        "    sampleJson = {\"id\" : 1, \"name\" : \"value2\", \"age\" : 29}\n",
        "\n",
        "    {\n",
        "          \"age\": 29,\n",
        "          \"id\": 1,\n",
        "          \"name\": \"value2\"\n",
        "    }"
      ],
      "metadata": {
        "id": "8eE35QccA_X-"
      }
    },
    {
      "cell_type": "code",
      "source": [
        "#write here and run the cell\n",
        "import json\n",
        "\n",
        "sampleJson = {\"id\": 1, \"name\": \"value2\", \"age\": 29}\n",
        "filename = \"output.json\"\n",
        "with open(filename, 'w') as file:\n",
        "    json.dump(sampleJson, file, indent=4 , sort_keys=True)\n",
        "\n",
        "print(f\"JSON data has been written to {filename}\")\n"
      ],
      "metadata": {
        "id": "jLG5tk_X_j5O",
        "colab": {
          "base_uri": "https://localhost:8080/"
        },
        "outputId": "92a0ec8f-2fcd-475b-81dc-56bc72332c40"
      },
      "execution_count": 38,
      "outputs": [
        {
          "output_type": "stream",
          "name": "stdout",
          "text": [
            "JSON data has been written to output.json\n"
          ]
        }
      ]
    },
    {
      "cell_type": "code",
      "source": [],
      "metadata": {
        "id": "8XM4UGomz8Dd"
      },
      "execution_count": 38,
      "outputs": []
    }
  ]
}